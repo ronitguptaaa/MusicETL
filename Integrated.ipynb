{
 "cells": [
  {
   "cell_type": "code",
   "execution_count": 2,
   "metadata": {},
   "outputs": [
    {
     "name": "stderr",
     "output_type": "stream",
     "text": [
      "24/05/23 22:14:44 WARN Utils: Your hostname, Ronits-MacBook-Air.local resolves to a loopback address: 127.0.0.1; using 192.168.1.2 instead (on interface en0)\n",
      "24/05/23 22:14:44 WARN Utils: Set SPARK_LOCAL_IP if you need to bind to another address\n",
      "Setting default log level to \"WARN\".\n",
      "To adjust logging level use sc.setLogLevel(newLevel). For SparkR, use setLogLevel(newLevel).\n",
      "24/05/23 22:14:45 WARN NativeCodeLoader: Unable to load native-hadoop library for your platform... using builtin-java classes where applicable\n"
     ]
    }
   ],
   "source": [
    "%run Requirements.ipynb"
   ]
  },
  {
   "cell_type": "code",
   "execution_count": 3,
   "metadata": {},
   "outputs": [],
   "source": [
    "%run secrets.ipynb"
   ]
  },
  {
   "cell_type": "code",
   "execution_count": 28,
   "metadata": {},
   "outputs": [
    {
     "name": "stderr",
     "output_type": "stream",
     "text": [
      "                                                                                \r"
     ]
    }
   ],
   "source": [
    "combined_df = spark.sql(\n",
    "    \"\"\"\n",
    "    SELECT DISTINCT\n",
    "        ART.ArtistName,\n",
    "        ART.Listeners AS ArtistListeners,\n",
    "        ART.PlayCount AS ArtistPlayCount,\n",
    "        ART.Genres AS ArtistGenres,\n",
    "        TRA.TrackName,\n",
    "        TRA.Duration AS TrackLength,\n",
    "        TRA.Listeners AS TrackListeners,\n",
    "        TRA.PlayCount AS TrackPlayCount,\n",
    "        ALB.AlbumName,\n",
    "        ALB.Listeners AS AlbumListeners,\n",
    "        ALB.PlayCount AS AlbumPlayCount,\n",
    "        ALB.ReleaseDate AS AlbumReleaseDate\n",
    "    FROM\n",
    "        PARQUET.`Mart/Artists_LastFM` AS ART\n",
    "    JOIN\n",
    "        PARQUET.`Mart/Tracks_LastFM` AS TRA ON LTRIM(RTRIM(LOWER(ART.ArtistName))) = LTRIM(RTRIM(LOWER(TRA.ArtistName)))\n",
    "    JOIN\n",
    "        PARQUET.`Mart/Albums_LastFM` AS ALB ON LTRIM(RTRIM(LOWER(ALB.ArtistName))) = LTRIM(RTRIM(LOWER(TRA.ArtistName)))\n",
    "    \"\"\"\n",
    ")\n",
    "\n",
    "combined_df.write.mode('overwrite').format('parquet').save('Mart/GlobalArtistDetails')\n"
   ]
  },
  {
   "cell_type": "code",
   "execution_count": null,
   "metadata": {},
   "outputs": [],
   "source": []
  }
 ],
 "metadata": {
  "kernelspec": {
   "display_name": ".venv",
   "language": "python",
   "name": "python3"
  },
  "language_info": {
   "codemirror_mode": {
    "name": "ipython",
    "version": 3
   },
   "file_extension": ".py",
   "mimetype": "text/x-python",
   "name": "python",
   "nbconvert_exporter": "python",
   "pygments_lexer": "ipython3",
   "version": "3.9.16"
  }
 },
 "nbformat": 4,
 "nbformat_minor": 2
}
