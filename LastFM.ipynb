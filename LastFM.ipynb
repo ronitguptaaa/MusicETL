{
 "cells": [
  {
   "cell_type": "code",
   "execution_count": 25,
   "metadata": {},
   "outputs": [
    {
     "name": "stderr",
     "output_type": "stream",
     "text": [
      "24/05/23 00:54:19 WARN SparkSession: Using an existing Spark session; only runtime SQL configurations will take effect.\n"
     ]
    }
   ],
   "source": [
    "from pyspark.sql import SparkSession\n",
    "\n",
    "# Create a SparkSession\n",
    "spark = SparkSession.builder \\\n",
    "    .appName(\"ExtractArtistNames\") \\\n",
    "    .getOrCreate()"
   ]
  },
  {
   "cell_type": "code",
   "execution_count": 42,
   "metadata": {},
   "outputs": [
    {
     "name": "stdout",
     "output_type": "stream",
     "text": [
      "+-----------------+--------------------+--------------------+--------------------+--------------------+--------------------+\n",
      "|       ArtistName|               album|            album_id|           artist_id|               track|            track_id|\n",
      "+-----------------+--------------------+--------------------+--------------------+--------------------+--------------------+\n",
      "|             Feid|      FERXXOCALIPSIS|0lgs2Sa82lyX89nBU...|2LRoIwlKmHjgvigdN...|                LUNA|7bywjHOc0wSjGGbj0...|\n",
      "|        ATL Jacob|      FERXXOCALIPSIS|0lgs2Sa82lyX89nBU...|7jAs1uPnpfNmT6e5q...|                LUNA|7bywjHOc0wSjGGbj0...|\n",
      "|   Arctic Monkeys|                  AM|78bpIziExqiI9qztv...|7Ln80lUS6He07XvHI...|    I Wanna Be Yours|5XeFesFbtLpXzIVDN...|\n",
      "|      Myles Smith|          Stargazing|3VNxRarx9HUI5w7DH...|3bO19AOone0ubCsfD...|          Stargazing|3Vr3zh0r7ALn8VLqC...|\n",
      "|            ILLIT|       SUPER REAL ME|6irebIc6UO8fN0jl4...|36cgvBn0aadzOijnj...|            Magnetic|1aKvZDoLGkNMxoRYg...|\n",
      "|     Benson Boone|Fireworks & Rolle...|168CdR21lfn0TTyw1...|22wbnEMDvgVIAGdFe...|        Slow It Down|51eSHglvG1RJXtL3q...|\n",
      "|       Noah Kahan|        Stick Season|50ZenUP4O2Q5eCy2N...|2RQXRUsr4IW1f3mKy...|        Stick Season|0mflMxspEfB0VbI1k...|\n",
      "|           Mitski|The Land Is Inhos...|2Cn1d2KgbkAqbZCJ1...|2uYWxilOVlUdk4oV9...|My Love Mine All ...|3vkCueOmm7xQDoJ17...|\n",
      "|The Neighbourhood|         I Love You.|4xkM0BwLM9H2IUcbY...|77SW9BnxLY8rJ0Rci...|     Sweater Weather|2QjOHCTQ1Jl3zawyY...|\n",
      "|     Taylor Swift|THE TORTURED POET...|1Mo4aZ8pdj6L1jx8z...|06HL4z0CvFAxyc27G...|      Guilty as Sin?|0W0iAC1VGlB82PI6e...|\n",
      "|       Lord Huron|      Strange Trails|4sD1qg4jwTZR4mvR4...|6ltzsmQQbmdoHHbLZ...|    The Night We Met|3hRV0jL3vUpRrcy39...|\n",
      "| Luis R Conriquez|    Si No Quieres No|6WkOBnYkj6y5iSr14...|0pePYDrJGk8gqMRbX...|    Si No Quieres No|1C84d9abZVKWHT2YY...|\n",
      "|       Neton Vega|    Si No Quieres No|6WkOBnYkj6y5iSr14...|6pV5zH2LzjOUHaAvE...|    Si No Quieres No|1C84d9abZVKWHT2YY...|\n",
      "|     Taylor Swift|THE TORTURED POET...|1Mo4aZ8pdj6L1jx8z...|06HL4z0CvFAxyc27G...|Who’s Afraid of L...|36t6frENUtCYKuZus...|\n",
      "|       The Weeknd|The Idol Episode ...|7tzVd1fwkxsorytCB...|1Xyo4u8uXC1ZmMpat...|One Of The Girls ...|7CyPwkp0oE8Ro9Dd5...|\n",
      "|           JENNIE|The Idol Episode ...|7tzVd1fwkxsorytCB...|250b0Wlc5Vk0CoUsa...|One Of The Girls ...|7CyPwkp0oE8Ro9Dd5...|\n",
      "|   Lily-Rose Depp|The Idol Episode ...|7tzVd1fwkxsorytCB...|1pBLC0qVRTB5zVMut...|One Of The Girls ...|7CyPwkp0oE8Ro9Dd5...|\n",
      "|           Future|  WE DON'T TRUST YOU|4iqbFIdGOTzXeDtt9...|1RyvyyTE3xzB2Zywi...|           Like That|2tudvzsrR56uom6sm...|\n",
      "|     Metro Boomin|  WE DON'T TRUST YOU|4iqbFIdGOTzXeDtt9...|0iEtIxbK0KxaSlF7G...|           Like That|2tudvzsrR56uom6sm...|\n",
      "|   Kendrick Lamar|  WE DON'T TRUST YOU|4iqbFIdGOTzXeDtt9...|2YZyLoL8N0Wb9xBt1...|           Like That|2tudvzsrR56uom6sm...|\n",
      "+-----------------+--------------------+--------------------+--------------------+--------------------+--------------------+\n",
      "only showing top 20 rows\n",
      "\n"
     ]
    }
   ],
   "source": [
    "df = spark.read.csv(\"Staging/TopGlobalArtists50\", header=True)\n",
    "df.show()"
   ]
  },
  {
   "cell_type": "code",
   "execution_count": 43,
   "metadata": {},
   "outputs": [],
   "source": [
    "df = df.select(\"ArtistName\", \"artist_id\")"
   ]
  },
  {
   "cell_type": "code",
   "execution_count": 44,
   "metadata": {},
   "outputs": [
    {
     "name": "stdout",
     "output_type": "stream",
     "text": [
      "+-----------------+--------------------+\n",
      "|       ArtistName|           artist_id|\n",
      "+-----------------+--------------------+\n",
      "|             Feid|2LRoIwlKmHjgvigdN...|\n",
      "|        ATL Jacob|7jAs1uPnpfNmT6e5q...|\n",
      "|   Arctic Monkeys|7Ln80lUS6He07XvHI...|\n",
      "|      Myles Smith|3bO19AOone0ubCsfD...|\n",
      "|            ILLIT|36cgvBn0aadzOijnj...|\n",
      "|     Benson Boone|22wbnEMDvgVIAGdFe...|\n",
      "|       Noah Kahan|2RQXRUsr4IW1f3mKy...|\n",
      "|           Mitski|2uYWxilOVlUdk4oV9...|\n",
      "|The Neighbourhood|77SW9BnxLY8rJ0Rci...|\n",
      "|     Taylor Swift|06HL4z0CvFAxyc27G...|\n",
      "|       Lord Huron|6ltzsmQQbmdoHHbLZ...|\n",
      "| Luis R Conriquez|0pePYDrJGk8gqMRbX...|\n",
      "|       Neton Vega|6pV5zH2LzjOUHaAvE...|\n",
      "|     Taylor Swift|06HL4z0CvFAxyc27G...|\n",
      "|       The Weeknd|1Xyo4u8uXC1ZmMpat...|\n",
      "|           JENNIE|250b0Wlc5Vk0CoUsa...|\n",
      "|   Lily-Rose Depp|1pBLC0qVRTB5zVMut...|\n",
      "|           Future|1RyvyyTE3xzB2Zywi...|\n",
      "|     Metro Boomin|0iEtIxbK0KxaSlF7G...|\n",
      "|   Kendrick Lamar|2YZyLoL8N0Wb9xBt1...|\n",
      "+-----------------+--------------------+\n",
      "only showing top 20 rows\n",
      "\n"
     ]
    }
   ],
   "source": [
    "df.show()"
   ]
  },
  {
   "cell_type": "code",
   "execution_count": 45,
   "metadata": {},
   "outputs": [
    {
     "name": "stderr",
     "output_type": "stream",
     "text": [
      "24/05/23 01:35:57 WARN MemoryManager: Total allocation exceeds 95.00% (1,020,054,720 bytes) of heap memory\n",
      "Scaling row group sizes to 95.00% for 8 writers\n",
      "                                                                                \r"
     ]
    }
   ],
   "source": [
    "df.write.mode('overwrite').options(header=True).saveAsTable('ArtistList')"
   ]
  },
  {
   "cell_type": "code",
   "execution_count": 46,
   "metadata": {},
   "outputs": [
    {
     "ename": "IsADirectoryError",
     "evalue": "[Errno 21] Is a directory: 'spark-warehouse/artistlist'",
     "output_type": "error",
     "traceback": [
      "\u001b[0;31m---------------------------------------------------------------------------\u001b[0m",
      "\u001b[0;31mIsADirectoryError\u001b[0m                         Traceback (most recent call last)",
      "Cell \u001b[0;32mIn[46], line 5\u001b[0m\n\u001b[1;32m      2\u001b[0m \u001b[38;5;28;01mimport\u001b[39;00m \u001b[38;5;21;01mrequests\u001b[39;00m\n\u001b[1;32m      4\u001b[0m \u001b[38;5;66;03m# Read the CSV file containing artist names into a Pandas DataFrame\u001b[39;00m\n\u001b[0;32m----> 5\u001b[0m artist_names_df \u001b[38;5;241m=\u001b[39m \u001b[43mpd\u001b[49m\u001b[38;5;241;43m.\u001b[39;49m\u001b[43mread_csv\u001b[49m\u001b[43m(\u001b[49m\u001b[38;5;124;43m\"\u001b[39;49m\u001b[38;5;124;43mspark-warehouse/artistlist\u001b[39;49m\u001b[38;5;124;43m\"\u001b[39;49m\u001b[43m)\u001b[49m\n\u001b[1;32m      7\u001b[0m \u001b[38;5;66;03m# Function to retrieve artist information from Last.fm API\u001b[39;00m\n\u001b[1;32m      8\u001b[0m \u001b[38;5;28;01mdef\u001b[39;00m \u001b[38;5;21mget_artist_info\u001b[39m(artist_name, api_key):\n",
      "File \u001b[0;32m~/opt/anaconda3/envs/.venv/lib/python3.9/site-packages/pandas/io/parsers/readers.py:1026\u001b[0m, in \u001b[0;36mread_csv\u001b[0;34m(filepath_or_buffer, sep, delimiter, header, names, index_col, usecols, dtype, engine, converters, true_values, false_values, skipinitialspace, skiprows, skipfooter, nrows, na_values, keep_default_na, na_filter, verbose, skip_blank_lines, parse_dates, infer_datetime_format, keep_date_col, date_parser, date_format, dayfirst, cache_dates, iterator, chunksize, compression, thousands, decimal, lineterminator, quotechar, quoting, doublequote, escapechar, comment, encoding, encoding_errors, dialect, on_bad_lines, delim_whitespace, low_memory, memory_map, float_precision, storage_options, dtype_backend)\u001b[0m\n\u001b[1;32m   1013\u001b[0m kwds_defaults \u001b[38;5;241m=\u001b[39m _refine_defaults_read(\n\u001b[1;32m   1014\u001b[0m     dialect,\n\u001b[1;32m   1015\u001b[0m     delimiter,\n\u001b[0;32m   (...)\u001b[0m\n\u001b[1;32m   1022\u001b[0m     dtype_backend\u001b[38;5;241m=\u001b[39mdtype_backend,\n\u001b[1;32m   1023\u001b[0m )\n\u001b[1;32m   1024\u001b[0m kwds\u001b[38;5;241m.\u001b[39mupdate(kwds_defaults)\n\u001b[0;32m-> 1026\u001b[0m \u001b[38;5;28;01mreturn\u001b[39;00m \u001b[43m_read\u001b[49m\u001b[43m(\u001b[49m\u001b[43mfilepath_or_buffer\u001b[49m\u001b[43m,\u001b[49m\u001b[43m \u001b[49m\u001b[43mkwds\u001b[49m\u001b[43m)\u001b[49m\n",
      "File \u001b[0;32m~/opt/anaconda3/envs/.venv/lib/python3.9/site-packages/pandas/io/parsers/readers.py:620\u001b[0m, in \u001b[0;36m_read\u001b[0;34m(filepath_or_buffer, kwds)\u001b[0m\n\u001b[1;32m    617\u001b[0m _validate_names(kwds\u001b[38;5;241m.\u001b[39mget(\u001b[38;5;124m\"\u001b[39m\u001b[38;5;124mnames\u001b[39m\u001b[38;5;124m\"\u001b[39m, \u001b[38;5;28;01mNone\u001b[39;00m))\n\u001b[1;32m    619\u001b[0m \u001b[38;5;66;03m# Create the parser.\u001b[39;00m\n\u001b[0;32m--> 620\u001b[0m parser \u001b[38;5;241m=\u001b[39m \u001b[43mTextFileReader\u001b[49m\u001b[43m(\u001b[49m\u001b[43mfilepath_or_buffer\u001b[49m\u001b[43m,\u001b[49m\u001b[43m \u001b[49m\u001b[38;5;241;43m*\u001b[39;49m\u001b[38;5;241;43m*\u001b[39;49m\u001b[43mkwds\u001b[49m\u001b[43m)\u001b[49m\n\u001b[1;32m    622\u001b[0m \u001b[38;5;28;01mif\u001b[39;00m chunksize \u001b[38;5;129;01mor\u001b[39;00m iterator:\n\u001b[1;32m    623\u001b[0m     \u001b[38;5;28;01mreturn\u001b[39;00m parser\n",
      "File \u001b[0;32m~/opt/anaconda3/envs/.venv/lib/python3.9/site-packages/pandas/io/parsers/readers.py:1620\u001b[0m, in \u001b[0;36mTextFileReader.__init__\u001b[0;34m(self, f, engine, **kwds)\u001b[0m\n\u001b[1;32m   1617\u001b[0m     \u001b[38;5;28mself\u001b[39m\u001b[38;5;241m.\u001b[39moptions[\u001b[38;5;124m\"\u001b[39m\u001b[38;5;124mhas_index_names\u001b[39m\u001b[38;5;124m\"\u001b[39m] \u001b[38;5;241m=\u001b[39m kwds[\u001b[38;5;124m\"\u001b[39m\u001b[38;5;124mhas_index_names\u001b[39m\u001b[38;5;124m\"\u001b[39m]\n\u001b[1;32m   1619\u001b[0m \u001b[38;5;28mself\u001b[39m\u001b[38;5;241m.\u001b[39mhandles: IOHandles \u001b[38;5;241m|\u001b[39m \u001b[38;5;28;01mNone\u001b[39;00m \u001b[38;5;241m=\u001b[39m \u001b[38;5;28;01mNone\u001b[39;00m\n\u001b[0;32m-> 1620\u001b[0m \u001b[38;5;28mself\u001b[39m\u001b[38;5;241m.\u001b[39m_engine \u001b[38;5;241m=\u001b[39m \u001b[38;5;28;43mself\u001b[39;49m\u001b[38;5;241;43m.\u001b[39;49m\u001b[43m_make_engine\u001b[49m\u001b[43m(\u001b[49m\u001b[43mf\u001b[49m\u001b[43m,\u001b[49m\u001b[43m \u001b[49m\u001b[38;5;28;43mself\u001b[39;49m\u001b[38;5;241;43m.\u001b[39;49m\u001b[43mengine\u001b[49m\u001b[43m)\u001b[49m\n",
      "File \u001b[0;32m~/opt/anaconda3/envs/.venv/lib/python3.9/site-packages/pandas/io/parsers/readers.py:1880\u001b[0m, in \u001b[0;36mTextFileReader._make_engine\u001b[0;34m(self, f, engine)\u001b[0m\n\u001b[1;32m   1878\u001b[0m     \u001b[38;5;28;01mif\u001b[39;00m \u001b[38;5;124m\"\u001b[39m\u001b[38;5;124mb\u001b[39m\u001b[38;5;124m\"\u001b[39m \u001b[38;5;129;01mnot\u001b[39;00m \u001b[38;5;129;01min\u001b[39;00m mode:\n\u001b[1;32m   1879\u001b[0m         mode \u001b[38;5;241m+\u001b[39m\u001b[38;5;241m=\u001b[39m \u001b[38;5;124m\"\u001b[39m\u001b[38;5;124mb\u001b[39m\u001b[38;5;124m\"\u001b[39m\n\u001b[0;32m-> 1880\u001b[0m \u001b[38;5;28mself\u001b[39m\u001b[38;5;241m.\u001b[39mhandles \u001b[38;5;241m=\u001b[39m \u001b[43mget_handle\u001b[49m\u001b[43m(\u001b[49m\n\u001b[1;32m   1881\u001b[0m \u001b[43m    \u001b[49m\u001b[43mf\u001b[49m\u001b[43m,\u001b[49m\n\u001b[1;32m   1882\u001b[0m \u001b[43m    \u001b[49m\u001b[43mmode\u001b[49m\u001b[43m,\u001b[49m\n\u001b[1;32m   1883\u001b[0m \u001b[43m    \u001b[49m\u001b[43mencoding\u001b[49m\u001b[38;5;241;43m=\u001b[39;49m\u001b[38;5;28;43mself\u001b[39;49m\u001b[38;5;241;43m.\u001b[39;49m\u001b[43moptions\u001b[49m\u001b[38;5;241;43m.\u001b[39;49m\u001b[43mget\u001b[49m\u001b[43m(\u001b[49m\u001b[38;5;124;43m\"\u001b[39;49m\u001b[38;5;124;43mencoding\u001b[39;49m\u001b[38;5;124;43m\"\u001b[39;49m\u001b[43m,\u001b[49m\u001b[43m \u001b[49m\u001b[38;5;28;43;01mNone\u001b[39;49;00m\u001b[43m)\u001b[49m\u001b[43m,\u001b[49m\n\u001b[1;32m   1884\u001b[0m \u001b[43m    \u001b[49m\u001b[43mcompression\u001b[49m\u001b[38;5;241;43m=\u001b[39;49m\u001b[38;5;28;43mself\u001b[39;49m\u001b[38;5;241;43m.\u001b[39;49m\u001b[43moptions\u001b[49m\u001b[38;5;241;43m.\u001b[39;49m\u001b[43mget\u001b[49m\u001b[43m(\u001b[49m\u001b[38;5;124;43m\"\u001b[39;49m\u001b[38;5;124;43mcompression\u001b[39;49m\u001b[38;5;124;43m\"\u001b[39;49m\u001b[43m,\u001b[49m\u001b[43m \u001b[49m\u001b[38;5;28;43;01mNone\u001b[39;49;00m\u001b[43m)\u001b[49m\u001b[43m,\u001b[49m\n\u001b[1;32m   1885\u001b[0m \u001b[43m    \u001b[49m\u001b[43mmemory_map\u001b[49m\u001b[38;5;241;43m=\u001b[39;49m\u001b[38;5;28;43mself\u001b[39;49m\u001b[38;5;241;43m.\u001b[39;49m\u001b[43moptions\u001b[49m\u001b[38;5;241;43m.\u001b[39;49m\u001b[43mget\u001b[49m\u001b[43m(\u001b[49m\u001b[38;5;124;43m\"\u001b[39;49m\u001b[38;5;124;43mmemory_map\u001b[39;49m\u001b[38;5;124;43m\"\u001b[39;49m\u001b[43m,\u001b[49m\u001b[43m \u001b[49m\u001b[38;5;28;43;01mFalse\u001b[39;49;00m\u001b[43m)\u001b[49m\u001b[43m,\u001b[49m\n\u001b[1;32m   1886\u001b[0m \u001b[43m    \u001b[49m\u001b[43mis_text\u001b[49m\u001b[38;5;241;43m=\u001b[39;49m\u001b[43mis_text\u001b[49m\u001b[43m,\u001b[49m\n\u001b[1;32m   1887\u001b[0m \u001b[43m    \u001b[49m\u001b[43merrors\u001b[49m\u001b[38;5;241;43m=\u001b[39;49m\u001b[38;5;28;43mself\u001b[39;49m\u001b[38;5;241;43m.\u001b[39;49m\u001b[43moptions\u001b[49m\u001b[38;5;241;43m.\u001b[39;49m\u001b[43mget\u001b[49m\u001b[43m(\u001b[49m\u001b[38;5;124;43m\"\u001b[39;49m\u001b[38;5;124;43mencoding_errors\u001b[39;49m\u001b[38;5;124;43m\"\u001b[39;49m\u001b[43m,\u001b[49m\u001b[43m \u001b[49m\u001b[38;5;124;43m\"\u001b[39;49m\u001b[38;5;124;43mstrict\u001b[39;49m\u001b[38;5;124;43m\"\u001b[39;49m\u001b[43m)\u001b[49m\u001b[43m,\u001b[49m\n\u001b[1;32m   1888\u001b[0m \u001b[43m    \u001b[49m\u001b[43mstorage_options\u001b[49m\u001b[38;5;241;43m=\u001b[39;49m\u001b[38;5;28;43mself\u001b[39;49m\u001b[38;5;241;43m.\u001b[39;49m\u001b[43moptions\u001b[49m\u001b[38;5;241;43m.\u001b[39;49m\u001b[43mget\u001b[49m\u001b[43m(\u001b[49m\u001b[38;5;124;43m\"\u001b[39;49m\u001b[38;5;124;43mstorage_options\u001b[39;49m\u001b[38;5;124;43m\"\u001b[39;49m\u001b[43m,\u001b[49m\u001b[43m \u001b[49m\u001b[38;5;28;43;01mNone\u001b[39;49;00m\u001b[43m)\u001b[49m\u001b[43m,\u001b[49m\n\u001b[1;32m   1889\u001b[0m \u001b[43m\u001b[49m\u001b[43m)\u001b[49m\n\u001b[1;32m   1890\u001b[0m \u001b[38;5;28;01massert\u001b[39;00m \u001b[38;5;28mself\u001b[39m\u001b[38;5;241m.\u001b[39mhandles \u001b[38;5;129;01mis\u001b[39;00m \u001b[38;5;129;01mnot\u001b[39;00m \u001b[38;5;28;01mNone\u001b[39;00m\n\u001b[1;32m   1891\u001b[0m f \u001b[38;5;241m=\u001b[39m \u001b[38;5;28mself\u001b[39m\u001b[38;5;241m.\u001b[39mhandles\u001b[38;5;241m.\u001b[39mhandle\n",
      "File \u001b[0;32m~/opt/anaconda3/envs/.venv/lib/python3.9/site-packages/pandas/io/common.py:873\u001b[0m, in \u001b[0;36mget_handle\u001b[0;34m(path_or_buf, mode, encoding, compression, memory_map, is_text, errors, storage_options)\u001b[0m\n\u001b[1;32m    868\u001b[0m \u001b[38;5;28;01melif\u001b[39;00m \u001b[38;5;28misinstance\u001b[39m(handle, \u001b[38;5;28mstr\u001b[39m):\n\u001b[1;32m    869\u001b[0m     \u001b[38;5;66;03m# Check whether the filename is to be opened in binary mode.\u001b[39;00m\n\u001b[1;32m    870\u001b[0m     \u001b[38;5;66;03m# Binary mode does not support 'encoding' and 'newline'.\u001b[39;00m\n\u001b[1;32m    871\u001b[0m     \u001b[38;5;28;01mif\u001b[39;00m ioargs\u001b[38;5;241m.\u001b[39mencoding \u001b[38;5;129;01mand\u001b[39;00m \u001b[38;5;124m\"\u001b[39m\u001b[38;5;124mb\u001b[39m\u001b[38;5;124m\"\u001b[39m \u001b[38;5;129;01mnot\u001b[39;00m \u001b[38;5;129;01min\u001b[39;00m ioargs\u001b[38;5;241m.\u001b[39mmode:\n\u001b[1;32m    872\u001b[0m         \u001b[38;5;66;03m# Encoding\u001b[39;00m\n\u001b[0;32m--> 873\u001b[0m         handle \u001b[38;5;241m=\u001b[39m \u001b[38;5;28;43mopen\u001b[39;49m\u001b[43m(\u001b[49m\n\u001b[1;32m    874\u001b[0m \u001b[43m            \u001b[49m\u001b[43mhandle\u001b[49m\u001b[43m,\u001b[49m\n\u001b[1;32m    875\u001b[0m \u001b[43m            \u001b[49m\u001b[43mioargs\u001b[49m\u001b[38;5;241;43m.\u001b[39;49m\u001b[43mmode\u001b[49m\u001b[43m,\u001b[49m\n\u001b[1;32m    876\u001b[0m \u001b[43m            \u001b[49m\u001b[43mencoding\u001b[49m\u001b[38;5;241;43m=\u001b[39;49m\u001b[43mioargs\u001b[49m\u001b[38;5;241;43m.\u001b[39;49m\u001b[43mencoding\u001b[49m\u001b[43m,\u001b[49m\n\u001b[1;32m    877\u001b[0m \u001b[43m            \u001b[49m\u001b[43merrors\u001b[49m\u001b[38;5;241;43m=\u001b[39;49m\u001b[43merrors\u001b[49m\u001b[43m,\u001b[49m\n\u001b[1;32m    878\u001b[0m \u001b[43m            \u001b[49m\u001b[43mnewline\u001b[49m\u001b[38;5;241;43m=\u001b[39;49m\u001b[38;5;124;43m\"\u001b[39;49m\u001b[38;5;124;43m\"\u001b[39;49m\u001b[43m,\u001b[49m\n\u001b[1;32m    879\u001b[0m \u001b[43m        \u001b[49m\u001b[43m)\u001b[49m\n\u001b[1;32m    880\u001b[0m     \u001b[38;5;28;01melse\u001b[39;00m:\n\u001b[1;32m    881\u001b[0m         \u001b[38;5;66;03m# Binary mode\u001b[39;00m\n\u001b[1;32m    882\u001b[0m         handle \u001b[38;5;241m=\u001b[39m \u001b[38;5;28mopen\u001b[39m(handle, ioargs\u001b[38;5;241m.\u001b[39mmode)\n",
      "\u001b[0;31mIsADirectoryError\u001b[0m: [Errno 21] Is a directory: 'spark-warehouse/artistlist'"
     ]
    }
   ],
   "source": [
    "import pandas as pd\n",
    "import requests\n",
    "\n",
    "# Read the CSV file containing artist names into a Pandas DataFrame\n",
    "artist_names_df = pd.read_csv(\"spark-warehouse/artistlist\")\n",
    "\n",
    "# Function to retrieve artist information from Last.fm API\n",
    "def get_artist_info(artist_name, api_key):\n",
    "    url = f\"http://ws.audioscrobbler.com/2.0/?method=artist.getInfo&artist={artist_name}&api_key={api_key}&format=json\"\n",
    "    response = requests.get(url)\n",
    "    artist_info = response.json().get(\"artist\", {})\n",
    "    artist_id = artist_info.get(\"mbid\")\n",
    "    overall_reach = artist_info.get(\"stats\", {}).get(\"listeners\")\n",
    "    popularity = artist_info.get(\"stats\", {}).get(\"playcount\")\n",
    "    genres = [tag[\"name\"] for tag in artist_info.get(\"tags\", {}).get(\"tag\", [])]\n",
    "    \n",
    "    return {\n",
    "        \"ArtistName\": artist_name,\n",
    "        \"ArtistID\": artist_id,\n",
    "        \"OverallReach\": overall_reach,\n",
    "        \"Popularity\": popularity,\n",
    "        \"Genres\": \", \".join(genres)\n",
    "    }\n",
    "\n",
    "# API key for Last.fm (replace with your own API key)\n",
    "lastfm_api_key = \"130ad717055f46130eObe133f8497c20\"\n",
    "\n",
    "# Initialize an empty list to store artist information\n",
    "artist_info_list = []\n",
    "\n",
    "# Iterate over the artist names in the DataFrame\n",
    "for artist_name in artist_names_df[\"ArtistName\"]:\n",
    "    artist_info = get_artist_info(artist_name, lastfm_api_key)\n",
    "    artist_info_list.append(artist_info)\n",
    "\n",
    "# Convert the list of dictionaries to a Pandas DataFrame\n",
    "artist_info_df = pd.DataFrame(artist_info_list)\n",
    "\n",
    "# Display the DataFrame\n",
    "print(artist_info_df)\n",
    "\n",
    "# Save the DataFrame to a CSV file\n",
    "# artist_info_df.to_csv(\"/path/to/save/artist_info_lastfm.csv\", index=False)\n"
   ]
  },
  {
   "cell_type": "code",
   "execution_count": null,
   "metadata": {},
   "outputs": [],
   "source": []
  }
 ],
 "metadata": {
  "kernelspec": {
   "display_name": ".venv",
   "language": "python",
   "name": "python3"
  },
  "language_info": {
   "codemirror_mode": {
    "name": "ipython",
    "version": 3
   },
   "file_extension": ".py",
   "mimetype": "text/x-python",
   "name": "python",
   "nbconvert_exporter": "python",
   "pygments_lexer": "ipython3",
   "version": "3.9.16"
  }
 },
 "nbformat": 4,
 "nbformat_minor": 2
}
