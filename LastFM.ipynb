{
 "cells": [
  {
   "cell_type": "code",
   "execution_count": 1,
   "metadata": {},
   "outputs": [
    {
     "name": "stderr",
     "output_type": "stream",
     "text": [
      "24/05/23 21:58:44 WARN Utils: Your hostname, Ronits-MacBook-Air.local resolves to a loopback address: 127.0.0.1; using 192.168.1.2 instead (on interface en0)\n",
      "24/05/23 21:58:44 WARN Utils: Set SPARK_LOCAL_IP if you need to bind to another address\n",
      "Setting default log level to \"WARN\".\n",
      "To adjust logging level use sc.setLogLevel(newLevel). For SparkR, use setLogLevel(newLevel).\n",
      "24/05/23 21:58:45 WARN NativeCodeLoader: Unable to load native-hadoop library for your platform... using builtin-java classes where applicable\n",
      "24/05/23 21:58:46 WARN Utils: Service 'SparkUI' could not bind on port 4040. Attempting port 4041.\n",
      "24/05/23 21:58:46 WARN Utils: Service 'SparkUI' could not bind on port 4041. Attempting port 4042.\n"
     ]
    }
   ],
   "source": [
    "%run Requirements.ipynb"
   ]
  },
  {
   "cell_type": "code",
   "execution_count": 2,
   "metadata": {},
   "outputs": [],
   "source": [
    "%run secrets.ipynb"
   ]
  },
  {
   "cell_type": "code",
   "execution_count": 3,
   "metadata": {},
   "outputs": [],
   "source": [
    "df = pd.read_csv('TopGlobalArtists50.csv')\n",
    "selected_column = df['ArtistName']\n",
    "selected_column.to_csv('ArtistList.csv', index=False)"
   ]
  },
  {
   "cell_type": "markdown",
   "metadata": {},
   "source": [
    "Get the Total Reach of Artist From Last FM After Integrating with Spotify"
   ]
  },
  {
   "cell_type": "code",
   "execution_count": 11,
   "metadata": {},
   "outputs": [],
   "source": [
    "artist_names_df = pd.read_csv(\"ArtistList.csv\")\n",
    "artist_data_list = []\n",
    "api_key = Secrets.get('lastFM_APIkey')\n",
    "\n",
    "for index, row in artist_names_df.iterrows():\n",
    "    artist_name = row[\"ArtistName\"]\n",
    "    \n",
    "    url = f\"http://ws.audioscrobbler.com/2.0/?method=artist.getinfo&artist={artist_name}&api_key={api_key}&format=json\"\n",
    "    response = requests.get(url)\n",
    "    artist_info = response.json()\n",
    "    artist_data = {}\n",
    "    if \"artist\" in artist_info:\n",
    "        artist = artist_info[\"artist\"]\n",
    "        artist_data[\"ArtistName\"] = artist.get(\"name\")\n",
    "        stats = artist.get(\"stats\", {})\n",
    "        artist_data[\"Listeners\"] = stats.get(\"listeners\")\n",
    "        artist_data[\"PlayCount\"] = stats.get(\"playcount\")\n",
    "        tags = artist.get(\"tags\", {}).get(\"tag\", [])\n",
    "        genres = [tag[\"name\"] for tag in tags]\n",
    "        artist_data[\"Genres\"] = \", \".join(genres)\n",
    "        artist_data_list.append(artist_data)\n",
    "    else:\n",
    "        print(f\"No artist information found for {artist_name}.\")\n",
    "artist_df = pd.DataFrame(artist_data_list)\n",
    "artist_df.to_parquet(\"Mart/Artists_LastFM\", index=False)"
   ]
  },
  {
   "cell_type": "markdown",
   "metadata": {},
   "source": [
    "Get Track wise Rreach of Artist From Last FM after integrating with Spotify"
   ]
  },
  {
   "cell_type": "code",
   "execution_count": 13,
   "metadata": {},
   "outputs": [],
   "source": [
    "spotify_tracks_df = pd.read_csv(\"TopGlobalArtists50.csv\")\n",
    "\n",
    "def get_track_info(artist_name, track_name):\n",
    "    api_key = \"130ad717055f46130e0be133f8497c20\"\n",
    "    url = f\"http://ws.audioscrobbler.com/2.0/?method=track.getInfo&api_key={api_key}&artist={artist_name}&track={track_name}&format=json\"\n",
    "    response = requests.get(url)\n",
    "    track_info = response.json().get(\"track\", {})\n",
    "    track_id = track_info.get(\"mbid\")\n",
    "    duration = track_info.get(\"duration\")\n",
    "    listeners = track_info.get(\"listeners\")\n",
    "    play_count = track_info.get(\"playcount\")\n",
    "    album = track_info.get(\"album\", {}).get(\"title\")\n",
    "    tags = [tag[\"name\"] for tag in track_info.get(\"toptags\", {}).get(\"tag\", [])]\n",
    "    \n",
    "    return {\n",
    "        \"TrackName\": track_name,\n",
    "        \"ArtistName\": artist_name,\n",
    "        \"TrackID\": track_id,\n",
    "        \"Duration\": duration,\n",
    "        \"Listeners\": listeners,\n",
    "        \"PlayCount\": play_count,\n",
    "        \"Album\": album,\n",
    "        \"Tags\": \", \".join(tags)\n",
    "    }\n",
    "\n",
    "track_info_list = []\n",
    "\n",
    "for index, row in spotify_tracks_df.iterrows():\n",
    "    artist_name = row[\"ArtistName\"]\n",
    "    track_name = row[\"track\"]\n",
    "    track_info = get_track_info(artist_name, track_name)\n",
    "    track_info_list.append(track_info)\n",
    "\n",
    "track_info_df = pd.DataFrame(track_info_list)\n",
    "track_info_df.to_parquet(\"Mart/Tracks_LastFM\", index=False)\n"
   ]
  },
  {
   "cell_type": "markdown",
   "metadata": {},
   "source": [
    "Get the information regarding the Albums of the Artist from the Last FM after integraing with Spotify"
   ]
  },
  {
   "cell_type": "code",
   "execution_count": 14,
   "metadata": {},
   "outputs": [],
   "source": [
    "spotify_albums_df = pd.read_csv(\"TopGlobalArtists50.csv\")\n",
    "\n",
    "def get_album_info(artist_name, album_name):\n",
    "    api_key = \"130ad717055f46130e0be133f8497c20\"\n",
    "    url = f\"http://ws.audioscrobbler.com/2.0/?method=album.getinfo&api_key={api_key}&artist={artist_name}&album={album_name}&format=json\"\n",
    "    response = requests.get(url)\n",
    "    \n",
    "    try:\n",
    "        album_info = response.json().get(\"album\", {})\n",
    "    except ValueError:\n",
    "        print(f\"Invalid response for artist '{artist_name}' and album '{album_name}': {response.text}\")\n",
    "        return None\n",
    "\n",
    "    album_id = album_info.get(\"mbid\")\n",
    "    listeners = album_info.get(\"listeners\")\n",
    "    play_count = album_info.get(\"playcount\")\n",
    "    tags = [tag[\"name\"] for tag in album_info.get(\"toptags\", {}).get(\"tag\", [])]\n",
    "    release_date = album_info.get(\"wiki\", {}).get(\"published\")\n",
    "\n",
    "    return {\n",
    "        \"AlbumName\": album_name,\n",
    "        \"ArtistName\": artist_name,\n",
    "        \"AlbumID\": album_id,\n",
    "        \"Listeners\": listeners,\n",
    "        \"PlayCount\": play_count,\n",
    "        \"Tags\": \", \".join(tags),\n",
    "        \"ReleaseDate\": release_date\n",
    "    }\n",
    "\n",
    "album_info_list = []\n",
    "\n",
    "for index, row in spotify_albums_df.iterrows():\n",
    "    artist_name = row[\"ArtistName\"]\n",
    "    album_name = row[\"album\"] \n",
    "    album_info = get_album_info(artist_name, album_name)\n",
    "    if album_info:\n",
    "        album_info_list.append(album_info)\n",
    "\n",
    "album_info_df = pd.DataFrame(album_info_list)\n",
    "album_info_df.to_parquet(\"Mart/Albums_LastFM\", index=False)"
   ]
  }
 ],
 "metadata": {
  "kernelspec": {
   "display_name": ".venv",
   "language": "python",
   "name": "python3"
  },
  "language_info": {
   "codemirror_mode": {
    "name": "ipython",
    "version": 3
   },
   "file_extension": ".py",
   "mimetype": "text/x-python",
   "name": "python",
   "nbconvert_exporter": "python",
   "pygments_lexer": "ipython3",
   "version": "3.9.16"
  }
 },
 "nbformat": 4,
 "nbformat_minor": 2
}
