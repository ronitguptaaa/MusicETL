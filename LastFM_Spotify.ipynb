{
 "cells": [
  {
   "cell_type": "code",
   "execution_count": 1,
   "metadata": {},
   "outputs": [
    {
     "name": "stderr",
     "output_type": "stream",
     "text": [
      "24/05/23 23:48:18 WARN Utils: Your hostname, Ronits-MacBook-Air.local resolves to a loopback address: 127.0.0.1; using 192.168.1.2 instead (on interface en0)\n",
      "24/05/23 23:48:18 WARN Utils: Set SPARK_LOCAL_IP if you need to bind to another address\n",
      "Setting default log level to \"WARN\".\n",
      "To adjust logging level use sc.setLogLevel(newLevel). For SparkR, use setLogLevel(newLevel).\n",
      "24/05/23 23:48:19 WARN NativeCodeLoader: Unable to load native-hadoop library for your platform... using builtin-java classes where applicable\n"
     ]
    }
   ],
   "source": [
    "%run Requirements.ipynb"
   ]
  },
  {
   "cell_type": "code",
   "execution_count": 2,
   "metadata": {},
   "outputs": [],
   "source": [
    "%run secrets.ipynb"
   ]
  },
  {
   "cell_type": "code",
   "execution_count": 3,
   "metadata": {},
   "outputs": [
    {
     "name": "stderr",
     "output_type": "stream",
     "text": [
      "                                                                                \r"
     ]
    }
   ],
   "source": [
    "combined_df = spark.sql(\n",
    "    \"\"\"\n",
    "    SELECT DISTINCT\n",
    "        ART.ArtistName,\n",
    "        ART.Listeners AS ArtistListeners,\n",
    "        ART.PlayCount AS ArtistPlayCount,\n",
    "        ART.Genres AS ArtistGenres,\n",
    "        TRA.TrackName,\n",
    "        TRA.Duration AS TrackLength,\n",
    "        TRA.Listeners AS TrackListeners,\n",
    "        TRA.PlayCount AS TrackPlayCount,\n",
    "        ALB.AlbumName,\n",
    "        ALB.Listeners AS AlbumListeners,\n",
    "        ALB.PlayCount AS AlbumPlayCount,\n",
    "        ALB.ReleaseDate AS AlbumReleaseDate\n",
    "    FROM\n",
    "        PARQUET.`Mart/Artists_LastFM` AS ART\n",
    "    JOIN\n",
    "        PARQUET.`Mart/Tracks_LastFM` AS TRA ON LTRIM(RTRIM(LOWER(ART.ArtistName))) = LTRIM(RTRIM(LOWER(TRA.ArtistName)))\n",
    "    JOIN\n",
    "        PARQUET.`Mart/Albums_LastFM` AS ALB ON LTRIM(RTRIM(LOWER(ALB.ArtistName))) = LTRIM(RTRIM(LOWER(TRA.ArtistName)))\n",
    "    \"\"\"\n",
    ")\n",
    "\n",
    "combined_df.write.mode('overwrite').format('parquet').save('Mart/GlobalArtist_LastFMDetails')\n"
   ]
  },
  {
   "cell_type": "code",
   "execution_count": 4,
   "metadata": {},
   "outputs": [
    {
     "name": "stderr",
     "output_type": "stream",
     "text": [
      "24/05/23 23:49:44 WARN MemoryManager: Total allocation exceeds 95.00% (1,020,054,720 bytes) of heap memory\n",
      "Scaling row group sizes to 95.00% for 8 writers\n",
      "                                                                                \r"
     ]
    }
   ],
   "source": [
    "combined_df = spark.read.parquet(\"Mart/GlobalArtist_LastFMDetails\")\n",
    "combined_pd_df = combined_df.toPandas()\n",
    "spotify_token = AT\n",
    "def get_spotify_artist_info(artist_name, access_token):\n",
    "    search_url = f\"https://api.spotify.com/v1/search?q={artist_name}&type=artist\"\n",
    "    headers = {\"Authorization\": f\"Bearer {access_token}\"}\n",
    "    response = requests.get(search_url, headers=headers)\n",
    "    data = response.json()\n",
    "    if data['artists']['items']:\n",
    "        artist = data['artists']['items'][0]\n",
    "        return {\n",
    "            \"ArtistPopularity\": artist.get('popularity'),\n",
    "            \"ArtistFollowers\": artist['followers'].get('total')\n",
    "        }\n",
    "    return {\"ArtistPopularity\": None, \"ArtistFollowers\": None}\n",
    "\n",
    "def get_spotify_track_info(track_name, artist_name, access_token):\n",
    "    search_url = f\"https://api.spotify.com/v1/search?q=track:{track_name} artist:{artist_name}&type=track\"\n",
    "    headers = {\"Authorization\": f\"Bearer {access_token}\"}\n",
    "    response = requests.get(search_url, headers=headers)\n",
    "    data = response.json()\n",
    "    if data['tracks']['items']:\n",
    "        track = data['tracks']['items'][0]\n",
    "        return {\n",
    "            \"TrackPopularity\": track.get('popularity'),\n",
    "            \"TrackPreview\": track.get('preview_url')\n",
    "        }\n",
    "    return {\"TrackPopularity\": None, \"TrackPreview\": None}\n",
    "\n",
    "def get_spotify_album_info(album_name, artist_name, access_token):\n",
    "    search_url = f\"https://api.spotify.com/v1/search?q=album:{album_name} artist:{artist_name}&type=album\"\n",
    "    headers = {\"Authorization\": f\"Bearer {access_token}\"}\n",
    "    response = requests.get(search_url, headers=headers)\n",
    "    data = response.json()\n",
    "    if data['albums']['items']:\n",
    "        album = data['albums']['items'][0]\n",
    "        return {\n",
    "            \"AlbumTotalTracks\": album.get('total_tracks')\n",
    "        }\n",
    "    return {\"AlbumTotalTracks\": None}\n",
    "\n",
    "enhanced_data = []\n",
    "\n",
    "for index, row in combined_pd_df.iterrows():\n",
    "    artist_name = row[\"ArtistName\"]\n",
    "    track_name = row[\"TrackName\"]\n",
    "    album_name = row[\"AlbumName\"]\n",
    "\n",
    "    artist_info = get_spotify_artist_info(artist_name, spotify_token)\n",
    "    track_info = get_spotify_track_info(track_name, artist_name, spotify_token)\n",
    "    album_info = get_spotify_album_info(album_name, artist_name, spotify_token)\n",
    "\n",
    "    enhanced_info = {**row, **artist_info, **track_info, **album_info}\n",
    "\n",
    "    enhanced_data.append(enhanced_info)\n",
    "\n",
    "enhanced_df = pd.DataFrame(enhanced_data)\n",
    "\n",
    "enhanced_spark_df = spark.createDataFrame(enhanced_df)\n",
    "enhanced_spark_df.write.mode('overwrite').format('parquet').save('Mart/GlobalArtist_SpotifyDetails')\n"
   ]
  }
 ],
 "metadata": {
  "kernelspec": {
   "display_name": ".venv",
   "language": "python",
   "name": "python3"
  },
  "language_info": {
   "codemirror_mode": {
    "name": "ipython",
    "version": 3
   },
   "file_extension": ".py",
   "mimetype": "text/x-python",
   "name": "python",
   "nbconvert_exporter": "python",
   "pygments_lexer": "ipython3",
   "version": "3.9.16"
  }
 },
 "nbformat": 4,
 "nbformat_minor": 2
}
