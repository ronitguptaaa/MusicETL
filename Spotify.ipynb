{
 "cells": [
  {
   "cell_type": "code",
   "execution_count": 23,
   "metadata": {},
   "outputs": [],
   "source": [
    "%run Requirements.ipynb"
   ]
  },
  {
   "cell_type": "code",
   "execution_count": 24,
   "metadata": {},
   "outputs": [],
   "source": [
    "%run secrets.ipynb"
   ]
  },
  {
   "cell_type": "code",
   "execution_count": 25,
   "metadata": {},
   "outputs": [
    {
     "name": "stderr",
     "output_type": "stream",
     "text": [
      "                                                                                \r"
     ]
    }
   ],
   "source": [
    "def get_playlist_tracks(access_token, playlist_id):\n",
    "    url = f\"https://api.spotify.com/v1/playlists/{playlist_id}/tracks\"\n",
    "    headers = {\n",
    "        \"Authorization\": f\"Bearer {access_token}\"\n",
    "    }\n",
    "    response = requests.get(url, headers=headers)\n",
    "    return response.json().get(\"items\", [])\n",
    "\n",
    "def extract_detailed_info(tracks):\n",
    "    data = []\n",
    "    seen = set()\n",
    "    for item in tracks:\n",
    "        track = item['track']\n",
    "        track_id = track['id']\n",
    "        track_name = track['name']\n",
    "        album = track['album']\n",
    "        album_id = album['id']\n",
    "        album_name = album['name']\n",
    "        artists = track['artists']\n",
    "        for artist in artists:\n",
    "            artist_id = artist['id']\n",
    "            artist_name = artist['name']\n",
    "            unique_key = (artist_id, album_id, track_id)\n",
    "            if unique_key not in seen:\n",
    "                seen.add(unique_key)\n",
    "                data.append({\n",
    "                    'ArtistName': artist_name,\n",
    "                    'artist_id': artist_id,\n",
    "                    'album': album_name,\n",
    "                    'album_id': album_id,\n",
    "                    'track': track_name,\n",
    "                    'track_id': track_id\n",
    "                })\n",
    "    return data\n",
    "\n",
    "\n",
    "access_token = AT\n",
    "tracks = get_playlist_tracks(access_token, Secrets.get('playlist_id'))\n",
    "detailed_info = extract_detailed_info(tracks)\n",
    "\n",
    "df = spark.createDataFrame(detailed_info)\n",
    "df.write.mode('overwrite').format('csv').options(header=True).save('Staging/TopGlobalArtists50')\n",
    "df = pd.DataFrame(detailed_info)\n",
    "df.to_csv(\"TopGlobalArtists50.csv\", header=True)"
   ]
  }
 ],
 "metadata": {
  "kernelspec": {
   "display_name": ".venv",
   "language": "python",
   "name": "python3"
  },
  "language_info": {
   "codemirror_mode": {
    "name": "ipython",
    "version": 3
   },
   "file_extension": ".py",
   "mimetype": "text/x-python",
   "name": "python",
   "nbconvert_exporter": "python",
   "pygments_lexer": "ipython3",
   "version": "3.9.16"
  }
 },
 "nbformat": 4,
 "nbformat_minor": 2
}
