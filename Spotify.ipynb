{
 "cells": [
  {
   "cell_type": "code",
   "execution_count": 1,
   "metadata": {},
   "outputs": [
    {
     "name": "stderr",
     "output_type": "stream",
     "text": [
      "24/05/23 21:56:24 WARN Utils: Your hostname, Ronits-MacBook-Air.local resolves to a loopback address: 127.0.0.1; using 192.168.1.2 instead (on interface en0)\n",
      "24/05/23 21:56:24 WARN Utils: Set SPARK_LOCAL_IP if you need to bind to another address\n",
      "Setting default log level to \"WARN\".\n",
      "To adjust logging level use sc.setLogLevel(newLevel). For SparkR, use setLogLevel(newLevel).\n",
      "24/05/23 21:56:25 WARN NativeCodeLoader: Unable to load native-hadoop library for your platform... using builtin-java classes where applicable\n",
      "24/05/23 21:56:26 WARN Utils: Service 'SparkUI' could not bind on port 4040. Attempting port 4041.\n"
     ]
    }
   ],
   "source": [
    "%run Requirements.ipynb"
   ]
  },
  {
   "cell_type": "code",
   "execution_count": 2,
   "metadata": {},
   "outputs": [],
   "source": [
    "%run secrets.ipynb"
   ]
  },
  {
   "cell_type": "code",
   "execution_count": 3,
   "metadata": {},
   "outputs": [
    {
     "name": "stderr",
     "output_type": "stream",
     "text": [
      "                                                                                \r"
     ]
    }
   ],
   "source": [
    "def get_playlist_tracks(access_token, playlist_id):\n",
    "    url = f\"https://api.spotify.com/v1/playlists/{playlist_id}/tracks\"\n",
    "    headers = {\n",
    "        \"Authorization\": f\"Bearer {access_token}\"\n",
    "    }\n",
    "    response = requests.get(url, headers=headers)\n",
    "    return response.json().get(\"items\", [])\n",
    "\n",
    "def extract_detailed_info(tracks):\n",
    "    data = []\n",
    "    seen = set()\n",
    "    for item in tracks:\n",
    "        track = item['track']\n",
    "        track_id = track['id']\n",
    "        track_name = track['name']\n",
    "        album = track['album']\n",
    "        album_id = album['id']\n",
    "        album_name = album['name']\n",
    "        artists = track['artists']\n",
    "        for artist in artists:\n",
    "            artist_id = artist['id']\n",
    "            artist_name = artist['name']\n",
    "            unique_key = (artist_id, album_id, track_id)\n",
    "            if unique_key not in seen:\n",
    "                seen.add(unique_key)\n",
    "                data.append({\n",
    "                    'ArtistName': artist_name,\n",
    "                    'artist_id': artist_id,\n",
    "                    'album': album_name,\n",
    "                    'album_id': album_id,\n",
    "                    'track': track_name,\n",
    "                    'track_id': track_id\n",
    "                })\n",
    "    return data\n",
    "\n",
    "\n",
    "access_token = AT\n",
    "tracks = get_playlist_tracks(access_token, Secrets.get('playlist_id'))\n",
    "detailed_info = extract_detailed_info(tracks)\n",
    "\n",
    "df = spark.createDataFrame(detailed_info)\n",
    "df.write.mode('overwrite').format('csv').options(header=True).save('Staging/TopGlobalArtists50')\n",
    "df = pd.DataFrame(detailed_info)\n",
    "df.to_csv(\"TopGlobalArtists50.csv\", header=True)"
   ]
  }
 ],
 "metadata": {
  "kernelspec": {
   "display_name": ".venv",
   "language": "python",
   "name": "python3"
  },
  "language_info": {
   "codemirror_mode": {
    "name": "ipython",
    "version": 3
   },
   "file_extension": ".py",
   "mimetype": "text/x-python",
   "name": "python",
   "nbconvert_exporter": "python",
   "pygments_lexer": "ipython3",
   "version": "3.9.16"
  }
 },
 "nbformat": 4,
 "nbformat_minor": 2
}
