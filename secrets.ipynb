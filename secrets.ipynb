{
    "cells": [
        {
            "cell_type": "code",
            "execution_count": 3,
            "metadata": {},
            "outputs": [],
            "source": [
                "Secrets = {\n",
                "    \"playlist_id\": \"37i9dQZEVXbMDoHDwVN2tF\",\n",
                "    \"client_id\": \"880483604cd14d019b0a81e783a0cdb1\",\n",
                "    \"client_secret\": \"fe1b008162544b6d98fb94c0d6a427e8\",\n",
                "    \"lastFM_APIkey\": \"130ad717055f46130e0be133f8497c20\"\n",
                "}"
            ]
        }
    ],
    "metadata": {
        "kernelspec": {
            "display_name": ".venv",
            "language": "python",
            "name": "python3"
        },
        "language_info": {
            "codemirror_mode": {
                "name": "ipython",
                "version": 3
            },
            "file_extension": ".py",
            "mimetype": "text/x-python",
            "name": "python",
            "nbconvert_exporter": "python",
            "pygments_lexer": "ipython3",
            "version": "3.9.16"
        }
    },
    "nbformat": 4,
    "nbformat_minor": 2
}
